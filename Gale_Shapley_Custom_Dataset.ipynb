{
 "cells": [
  {
   "cell_type": "markdown",
   "metadata": {},
   "source": [
    "## <font color=green>1. Gale Shapley Algorithm [Stable Matching]\n",
    "### <font color=black>Introduction\n",
    "\n",
    "\n",
    "**Gale Shapley Algorithm**\n",
    "    \n",
    "Gale Shapley (GS) Algorithm also known as the Stable Matching (SM) problem is a constructive algorithm used to find a stable match meaning for given a candidate the algorithm would find its preferable partner. It is an efficient graph algorithm that is used for solving \"Stable Matching\" problem. It has a time complexity of O(N^2), where N is the number of entries (i.e. the number of people involved). \n",
    "    \n",
    "The classic stable marriage (SM) problem can be stated as below: Given n men and n women, where each person has ranked all members of the opposite sex with a unique number between 1 and n in order of preference, marry the men and women together such that there are no two people of opposite sex who would both rather have each other than their current partners. If there are no such people, all the marriages are **“stable”**. Gale and Shapley gave their famous\n",
    "deferred acceptance algorithm in 1962 which always finds a stable matching.\n",
    "\n",
    "When the preference lists are incomplete and/or have ties, the problem becomes more challenge (called Stable Marriage with Incomplete List and Ties, SMTI). For SMTI, the GS algorithm still finds a stable matching. However, in this case, we are usually interested in finding a stable matching with maximum size. While the matching size of the GS algorithm\n",
    "is at least half of the optimal matching size, a modified version of the GS algorithm was proposed to guarantee 2/3 of the optimal matching size. Algorithms for finding solutions to the stable marriage problem have applications in a variety of real-world situations. A well known example is in the assignment of graduating medical students to their first hospital appointments. In 2012, the Nobel Prize in Economics was awarded to Lloyd S. Shapley and Alvin E. Roth for the theory of stable allocations and the practice of market design. "
   ]
  },
  {
   "cell_type": "markdown",
   "metadata": {},
   "source": [
    "**PROBLEM STATEMENT:**\n",
    "Stable Matching problem arises as a problem for selecting the suitable and most perfect partner for marriage. The problem requires at any given condition the pairing between a couple should be so, that only the most suitable people are paired as a couple. The algorithm requires 2 sets of input(group of people: male and female),\n",
    "\n",
    "- The first set contains females\n",
    "- The second set contains males.\n",
    "\n",
    "    \n",
    " Each person in each set has a list of preferences which includes all the people from the opposite set. That is, every woman in the set has a preference list that contains all the men in the other set. Similarly, every man has a preference list that contains all the women in the other set.\n",
    "    \n",
    "\n",
    "- We assume that females can be matched to only males and vice versa.\n",
    "- Also, there is no male who also identifies as female and no female identifies as male.\n",
    "- A person can be of the same preference to many people in the opposite set i.e. A woman named 'A' may be the first   preference of 2 men '1' and '2'.\n",
    "- The preferences are not reciprocated i.e If 'A' is the first preference of '1', but '1' need not be 'A's' first preference.\n",
    "\n",
    "Under these conditions, we need to perform a matching so that every person is engaged to his/her most preferable choice.\n",
    "\n",
    "Before going on to solving this problem, we need to choose the proposers' side i.e the people who will be proposing to the other set. The result obtained might vary slightly on this choice, but both the results will be stable matchings even if they are not the same."
   ]
  },
  {
   "cell_type": "markdown",
   "metadata": {},
   "source": [
    "### <font color=black>Algorithm\n",
    "![alt text](Algo.png \"GALE AND SHAPLEY'S ALGORITHM\")"
   ]
  },
  {
   "cell_type": "markdown",
   "metadata": {},
   "source": [
    "### <font color=black>Example\n",
    "\n",
    "The GS Problem can be defined by considering the below example. Consider the image below where there are 5 boys (1,2,3,4,5) who would be the input candidates and there are 5 girls (A,B,C,D,E) who are the preferable candidates or vice versa. These boys and girls have their own preference for a partner. That is each boy has a list of girls whom he wants to partner/dance/play with, ranking them from most desirable to least desirable, and on the other hand each girl has a list of boys whom she wants to partner/dance/play with, ranking them from most desirable to least desirable. A girl is acceptable for a boy if she is on his preference list; similarly, a boy is acceptable for a girl if he is on her preference list. Everyone's preferences depend only on their own opinions; there is no jealousy (in economic terms, there are no externalities). No one is forced to dance with anyone who is not on their preference list.\n",
    "\n",
    "**A matching:** An outcome which tells everyone in the room who their dance partners are. Formally, a matching is a function that maps the set of boys and girls onto itself.\n",
    "    \n",
    "**Stability:** Suppose a matching has been made but there is a boy and a girl who want to dance with each other rather than dance with the person the matching matched them up with. Then they are said to form a blocking pair. A stable matching happens if there are no blocking pairs.\n",
    "    \n",
    "![alt text](Stable.png \"GALE AND SHAPLEY'S ALGORITHM\")\n",
    "\n",
    "    \n",
    "### <font color=black>Algorithm Walkthrough\n",
    "    \n",
    "Step 1. Each boy proposes to his first acceptable choice (if he has any names on his preference list). Each girl who receives an offer rejects all offers except the best acceptable proposal (according to her preference list), which she holds on to.\n",
    "\n",
    "Step k. Any boy who was rejected at step k − 1 makes a new proposal to his most preferred girl on his list who has not yet rejected him. (If he ran through the names on his list, he makes no more proposals.) Each girl holds her most preferred acceptable proposal to date, and rejects the rest.\n",
    "\n",
    "Algorithm terminates when there are no more rejections and each girl is matched with the boy she has been holding in the last step. Any girl who has not been holding an offer or any boy who was rejected by all acceptable girls remains single.\n",
    "\n",
    "Note: In the explanation above, we had boys propose for demonstration purposes, but of course, girls can propose too, and in that case, we would reach a stable matching as well."
   ]
  },
  {
   "cell_type": "markdown",
   "metadata": {},
   "source": [
    "### <font color=black>Dataset\n",
    "For the Stable Matching Algorithm we have taken the candidates as males which are categorised using Alphabets A,B,etc. and their preferable matches are the girls who have been categorised as numbers 1,2,3,etc. The peferences are ranked in the table based on the most peferred first (P1) and the least preferred last (P10). This dataset can also be extended to add more candidates and also more preferences, as there can be cases where a candidate was not able to find his/her **stable match**\n",
    "    \n",
    "**Male Preferences**\n",
    "    \n",
    "| Male Candidate | P1 | P2 | P3 | P4 | P5 | P6 | P7 | P8 | P9 | P10 |\n",
    "| :----: | :----: | :----: | :----: | :----: | :----: | :----: | :----: | :----: | :----: | :----: |\n",
    "| A | 10 | 8  | 9  | 4 | 5 | 1  | 7 | 3  | 2  | 6  |\n",
    "| B | 6  | 5  | 3  | 8 | 9 | 7  | 1 | 4  | 10 | 2  |\n",
    "| C | 2  | 1  | 8  | 9 | 5 | 7  | 4 | 10 | 6  | 3  |\n",
    "| D | 1  | 2  | 7  | 3 | 6 | 8  | 9 | 10 | 4  | 5  |\n",
    "| E | 4  | 1  | 2  | 3 | 5 | 6  | 9 | 8  | 7  | 10 |\n",
    "| F | 1  | 2  | 3  | 8 | 4 | 9  | 5 | 7  | 6  | 10 |\n",
    "| G | 5  | 10 | 4  | 3 | 8 | 1  | 9 | 7  | 6  | 2  |\n",
    "| H | 9  | 1  | 2  | 6 | 3 | 10 | 4 | 8  | 7  | 5  |\n",
    "| I | 9  | 7  | 10 | 1 | 4 | 3  | 6 | 5  | 8  | 2  |\n",
    "| J | 1  | 4  | 10 | 3 | 5 | 8  | 6 | 7  | 9  | 2  |\n",
    "   "
   ]
  },
  {
   "cell_type": "markdown",
   "metadata": {},
   "source": [
    "**Female Preferences**\n",
    "\n",
    "| Female Candidate | P1 | P2 | P3 | P4 | P5 | P6 | P7 | P8 | P9 | P10 |\n",
    "| :----: | :----: | :----: | :----: | :----: | :----: | :----: | :----: | :----: | :----: | :----: |\n",
    "| 1  | B | E  | J  | C | D | G  | F | A  | H  | I  |\n",
    "| 2  | J | A  | B  | C | E | G  | F | D  | H  | I  |\n",
    "| 3  | A | C  | E  | F | I | D  | G | H  | J  | B  |\n",
    "| 4  | H | E  | I  | F | D | C  | B | J  | G  | A  |    \n",
    "| 5  | C | I  | B  | D | E | A  | H | J  | G  | F  |\n",
    "| 6  | J | G  | D  | F | H | B  | A | E  | C  | I  |\n",
    "| 7  | E | B  | D  | H | G | F  | J | A  | I  | C  |\n",
    "| 8  | D | F  | E  | H | G | B  | C | J  | A  | I  |\n",
    "| 9  | G | A  | I  | C | J | B  | E | F  | H  | D  |\n",
    "| 10 | B | C  | A  | D | E | I  | H | J  | F  | G  |\n"
   ]
  },
  {
   "cell_type": "markdown",
   "metadata": {},
   "source": [
    "### <font color=black>Program Code\n",
    "\n",
    "For Stable Matching we have used a class to create the python code into a useable package called the  **'GSAlgo'** by using that we can replicate Stable Matching Algorithm with our custom dataset apart from that we have also implemented the GS algo with our own python code that is based on data structures and the GS algo discussed above. Both these solutions are performed for the dataset mentioned above, these two methods are discussed so that we can show two different approaches to the coding part of the GS algorithm."
   ]
  },
  {
   "cell_type": "markdown",
   "metadata": {},
   "source": [
    "**Method 1**:Using traditional data structures and algos"
   ]
  },
  {
   "cell_type": "code",
   "execution_count": 2,
   "metadata": {},
   "outputs": [],
   "source": [
    "import collections\n",
    "from datetime import datetime\n",
    "\n",
    "MalePrefers = {\n",
    "    'A': ['10', '4', '9', '4','5','1','7','3','2','6'],\n",
    "    'B': ['6', '5', '3', '8','9','7','1','4','10','2'],\n",
    "    'C': ['2', '1', '8', '9','5','7','4','10','6','3'],\n",
    "    'D': ['1', '2', '7', '3','6','8','9','10','4','5'],\n",
    "    'E': ['4', '1', '2', '3','5','6','9','8','7','10'],\n",
    "    'F': ['1', '2', '3', '8','4','9','5','7','6','10'],\n",
    "    'G': ['5', '10', '4', '3','8','1','9','7','6','2'],\n",
    "    'H': ['9', '1', '2', '6','3','10','4','8','7','5'],\n",
    "    'I': ['9', '7', '10', '1','4','3','6','5','8','5'],\n",
    "    'J': ['1', '4', '10', '3','5','8','6','7','9','2']\n",
    "}\n",
    "\n",
    "FemalePrefers = {\n",
    "    '1':  ['B', 'E', 'J', 'C', 'D', 'G', 'F', 'A', 'H', 'I'],\n",
    "    '2':  ['J', 'A', 'B', 'C', 'E', 'G', 'F', 'D', 'H', 'I'],\n",
    "    '3':  ['A', 'C', 'E', 'F', 'I', 'D', 'G', 'H', 'J', 'B'],\n",
    "    '4':  ['H', 'E', 'I', 'F', 'D', 'C', 'B', 'J', 'G', 'A'],\n",
    "    '5':  ['C', 'I', 'B', 'D', 'E', 'A', 'H', 'J', 'G', 'F'],\n",
    "    '6':  ['J', 'G', 'D', 'F', 'H', 'B', 'A', 'E', 'C', 'I'],\n",
    "    '7':  ['E', 'B', 'D', 'H', 'G', 'F', 'J', 'A', 'I', 'C'],\n",
    "    '8':  ['D', 'F', 'E', 'H', 'G', 'B', 'C', 'J', 'A', 'I'],\n",
    "    '9':  ['G', 'A', 'I', 'C', 'J', 'B', 'E', 'F', 'H', 'D'],\n",
    "    '10': ['B', 'C', 'A', 'D', 'E', 'I', 'H', 'J', 'F', 'G']\n",
    "}"
   ]
  },
  {
   "cell_type": "code",
   "execution_count": 3,
   "metadata": {},
   "outputs": [],
   "source": [
    "tentative_matchings = [] #This list keeps track of tentative matches between people, these pairs could be potential matches\n",
    "unmatched_men = [] #Male candidates who have not been matched with a female partner \n",
    "\n",
    "def init_unmatched_men():\n",
    "    #Initialize the arrays of female and male to represent that all are initially unmatched & have not found a partner'''\n",
    "    for male_candidate in MalePrefers:\n",
    "        unmatched_men.append(male_candidate)\n",
    "\n",
    "def Stablematching(male_candidate): #Find the first free woman available to a man at any given time\n",
    "    for female_candidate in MalePrefers[male_candidate]:\n",
    "        #taken will assign a bool value to chk if that female candidate has already been partnered or not\n",
    "        taken = [matched for matched in tentative_matchings if female_candidate in matched]\n",
    "\n",
    "        if (len(taken) == 0): #Match the male and female candidates tentatively\n",
    "            tentative_matchings.append([male_candidate, female_candidate])\n",
    "            unmatched_men.remove(male_candidate)\n",
    "            break\n",
    "        \n",
    "        \n",
    "        #If the candidate already has a match then we need to check if that match is the stablematch or not by ranking the match partner with preferences\n",
    "        elif (len(taken) > 0):\n",
    "            current_match = FemalePrefers[female_candidate].index(taken[0][0])\n",
    "            stable_match = FemalePrefers[female_candidate].index(male_candidate)\n",
    "            \n",
    "            \n",
    "            #Checking if the current match is not better than the most stablematch partner\n",
    "            #If the current match is not the stable match keep iterating till we find someone who is more stable match than potential match\n",
    "            if (current_match > stable_match): \n",
    "                #If not then we partner the candidate with the new match who is more stable i.e. more suitable based on preference\n",
    "                unmatched_men.remove(male_candidate)\n",
    "                #Now the previous partner will be left with no partner hence we need to add that candidate to unmatched list\n",
    "                unmatched_men.append(taken[0][0])\n",
    "                #Assign the tentative partner for the female candidate\n",
    "                taken[0][0] = male_candidate\n",
    "                break\n",
    "\n",
    "def stable_matching():\n",
    "    '''Matching algorithm until stable match terminates'''\n",
    "    start_time = datetime.now()\n",
    "    cnt = 0\n",
    "    while (len(unmatched_men) > 0):\n",
    "        cnt += 1\n",
    "        for male_candidate in unmatched_men:\n",
    "            Stablematching(male_candidate)\n",
    "    end_time = datetime.now()\n",
    "    print('Duration: {}'.format(end_time - start_time))\n",
    "    print('Total Iterations: ' + str(cnt))"
   ]
  },
  {
   "cell_type": "code",
   "execution_count": 4,
   "metadata": {},
   "outputs": [
    {
     "name": "stdout",
     "output_type": "stream",
     "text": [
      "Duration: 0:00:00.000061\n",
      "Total Iterations: 6\n",
      "[['A', '10'], ['C', '2'], ['E', '4'], ['B', '5'], ['I', '9'], ['H', '6'], ['J', '1'], ['D', '7'], ['F', '3'], ['G', '8']]\n"
     ]
    }
   ],
   "source": [
    "def main():\n",
    "    init_unmatched_men()\n",
    "    stable_matching()\n",
    "    print(tentative_matchings)\n",
    "\n",
    "main()"
   ]
  },
  {
   "cell_type": "markdown",
   "metadata": {},
   "source": [
    "**Method 2**:Using a user-defined package 'GSAlgo'"
   ]
  },
  {
   "cell_type": "code",
   "execution_count": 5,
   "metadata": {},
   "outputs": [
    {
     "ename": "ModuleNotFoundError",
     "evalue": "No module named 'GSAlgo'",
     "output_type": "error",
     "traceback": [
      "\u001b[0;31m---------------------------------------------------------------------------\u001b[0m",
      "\u001b[0;31mModuleNotFoundError\u001b[0m                       Traceback (most recent call last)",
      "\u001b[0;32m<ipython-input-5-3672aa4d78be>\u001b[0m in \u001b[0;36m<module>\u001b[0;34m\u001b[0m\n\u001b[0;32m----> 1\u001b[0;31m \u001b[0;32mfrom\u001b[0m \u001b[0mGSAlgo\u001b[0m \u001b[0;32mimport\u001b[0m \u001b[0mStableMatchingModel\u001b[0m\u001b[0;34m\u001b[0m\u001b[0;34m\u001b[0m\u001b[0m\n\u001b[0m",
      "\u001b[0;31mModuleNotFoundError\u001b[0m: No module named 'GSAlgo'"
     ]
    }
   ],
   "source": [
    "from GSAlgo import StableMatchingModel"
   ]
  },
  {
   "cell_type": "code",
   "execution_count": 6,
   "metadata": {},
   "outputs": [],
   "source": [
    "MalePrefers = {\n",
    "    'A': ['10', '4', '9', '4','5','1','7','3','2','6'],\n",
    "    'B': ['6', '5', '3', '8','9','7','1','4','10','2'],\n",
    "    'C': ['2', '1', '8', '9','5','7','4','10','6','3'],\n",
    "    'D': ['1', '2', '7', '3','6','8','9','10','4','5'],\n",
    "    'E': ['4', '1', '2', '3','5','6','9','8','7','10'],\n",
    "    'F': ['1', '2', '3', '8','4','9','5','7','6','10'],\n",
    "    'G': ['5', '10', '4', '3','8','1','9','7','6','2'],\n",
    "    'H': ['9', '1', '2', '6','3','10','4','8','7','5'],\n",
    "    'I': ['9', '7', '10', '1','4','3','6','5','8','5'],\n",
    "    'J': ['1', '4', '10', '3','5','8','6','7','9','2']\n",
    "}\n",
    "\n",
    "FemalePrefers = {\n",
    "    '1':  ['B', 'E', 'J', 'C', 'D', 'G', 'F', 'A', 'H', 'I'],\n",
    "    '2':  ['J', 'A', 'B', 'C', 'E', 'G', 'F', 'D', 'H', 'I'],\n",
    "    '3':  ['A', 'C', 'E', 'F', 'I', 'D', 'G', 'H', 'J', 'B'],\n",
    "    '4':  ['H', 'E', 'I', 'F', 'D', 'C', 'B', 'J', 'G', 'A'],\n",
    "    '5':  ['C', 'I', 'B', 'D', 'E', 'A', 'H', 'J', 'G', 'F'],\n",
    "    '6':  ['J', 'G', 'D', 'F', 'H', 'B', 'A', 'E', 'C', 'I'],\n",
    "    '7':  ['E', 'B', 'D', 'H', 'G', 'F', 'J', 'A', 'I', 'C'],\n",
    "    '8':  ['D', 'F', 'E', 'H', 'G', 'B', 'C', 'J', 'A', 'I'],\n",
    "    '9':  ['G', 'A', 'I', 'C', 'J', 'B', 'E', 'F', 'H', 'D'],\n",
    "    '10': ['B', 'C', 'A', 'D', 'E', 'I', 'H', 'J', 'F', 'G']\n",
    "}"
   ]
  },
  {
   "cell_type": "code",
   "execution_count": 7,
   "metadata": {},
   "outputs": [
    {
     "ename": "NameError",
     "evalue": "name 'StableMatchingModel' is not defined",
     "output_type": "error",
     "traceback": [
      "\u001b[0;31m---------------------------------------------------------------------------\u001b[0m",
      "\u001b[0;31mNameError\u001b[0m                                 Traceback (most recent call last)",
      "\u001b[0;32m<ipython-input-7-9d20f61c2fb6>\u001b[0m in \u001b[0;36m<module>\u001b[0;34m\u001b[0m\n\u001b[1;32m      1\u001b[0m \u001b[0mstart_time\u001b[0m \u001b[0;34m=\u001b[0m \u001b[0mdatetime\u001b[0m\u001b[0;34m.\u001b[0m\u001b[0mnow\u001b[0m\u001b[0;34m(\u001b[0m\u001b[0;34m)\u001b[0m\u001b[0;34m\u001b[0m\u001b[0;34m\u001b[0m\u001b[0m\n\u001b[0;32m----> 2\u001b[0;31m \u001b[0mmodel\u001b[0m \u001b[0;34m=\u001b[0m \u001b[0mStableMatchingModel\u001b[0m\u001b[0;34m(\u001b[0m\u001b[0mMalePrefers\u001b[0m\u001b[0;34m,\u001b[0m \u001b[0mFemalePrefers\u001b[0m\u001b[0;34m)\u001b[0m\u001b[0;34m\u001b[0m\u001b[0;34m\u001b[0m\u001b[0m\n\u001b[0m\u001b[1;32m      3\u001b[0m \u001b[0mmu\u001b[0m \u001b[0;34m=\u001b[0m \u001b[0mmodel\u001b[0m\u001b[0;34m.\u001b[0m\u001b[0mDeferred_Acceptance\u001b[0m\u001b[0;34m(\u001b[0m\u001b[0;34m)\u001b[0m\u001b[0;34m\u001b[0m\u001b[0;34m\u001b[0m\u001b[0m\n\u001b[1;32m      4\u001b[0m \u001b[0mend_time\u001b[0m \u001b[0;34m=\u001b[0m \u001b[0mdatetime\u001b[0m\u001b[0;34m.\u001b[0m\u001b[0mnow\u001b[0m\u001b[0;34m(\u001b[0m\u001b[0;34m)\u001b[0m\u001b[0;34m\u001b[0m\u001b[0;34m\u001b[0m\u001b[0m\n\u001b[1;32m      5\u001b[0m \u001b[0mprint\u001b[0m\u001b[0;34m(\u001b[0m\u001b[0;34m'Duration: {}'\u001b[0m\u001b[0;34m.\u001b[0m\u001b[0mformat\u001b[0m\u001b[0;34m(\u001b[0m\u001b[0mend_time\u001b[0m \u001b[0;34m-\u001b[0m \u001b[0mstart_time\u001b[0m\u001b[0;34m)\u001b[0m\u001b[0;34m)\u001b[0m\u001b[0;34m\u001b[0m\u001b[0;34m\u001b[0m\u001b[0m\n",
      "\u001b[0;31mNameError\u001b[0m: name 'StableMatchingModel' is not defined"
     ]
    }
   ],
   "source": [
    "start_time = datetime.now()\n",
    "model = StableMatchingModel(MalePrefers, FemalePrefers)\n",
    "mu = model.Deferred_Acceptance()\n",
    "end_time = datetime.now()\n",
    "print('Duration: {}'.format(end_time - start_time))\n",
    "mu"
   ]
  },
  {
   "cell_type": "markdown",
   "metadata": {},
   "source": [
    "Using this user-defined package is very useful to visualize the GS algorithm in various iterations. This allows us to print the total steps the algo took to reach a stable match between the candidates which is shown below."
   ]
  },
  {
   "cell_type": "code",
   "execution_count": 8,
   "metadata": {},
   "outputs": [
    {
     "ename": "NameError",
     "evalue": "name 'model' is not defined",
     "output_type": "error",
     "traceback": [
      "\u001b[0;31m---------------------------------------------------------------------------\u001b[0m",
      "\u001b[0;31mNameError\u001b[0m                                 Traceback (most recent call last)",
      "\u001b[0;32m<ipython-input-8-ba2e53c5eac4>\u001b[0m in \u001b[0;36m<module>\u001b[0;34m\u001b[0m\n\u001b[0;32m----> 1\u001b[0;31m \u001b[0mmodel\u001b[0m\u001b[0;34m.\u001b[0m\u001b[0mDeferred_Acceptance\u001b[0m\u001b[0;34m(\u001b[0m\u001b[0mprint_rounds\u001b[0m\u001b[0;34m=\u001b[0m\u001b[0;32mTrue\u001b[0m\u001b[0;34m)\u001b[0m\u001b[0;34m;\u001b[0m\u001b[0;34m\u001b[0m\u001b[0;34m\u001b[0m\u001b[0m\n\u001b[0m",
      "\u001b[0;31mNameError\u001b[0m: name 'model' is not defined"
     ]
    }
   ],
   "source": [
    "model.Deferred_Acceptance(print_rounds=True);"
   ]
  },
  {
   "cell_type": "markdown",
   "metadata": {},
   "source": [
    "Similarly, we can also use the package to get the iterative matchings as well"
   ]
  },
  {
   "cell_type": "code",
   "execution_count": 8,
   "metadata": {},
   "outputs": [
    {
     "name": "stdout",
     "output_type": "stream",
     "text": [
      "Tentative matching after Round 1:\n",
      "{'A': '10', 'B': '6', 'C': '2', 'J': '1', 'E': '4', 'G': '5', 'I': '9'}\n",
      "Tentative matching after Round 2:\n",
      "{'J': '1', 'C': '2', 'A': '10', 'B': '6', 'E': '4', 'G': '5', 'I': '9'}\n",
      "Tentative matching after Round 3:\n",
      "{'C': '2', 'F': '3', 'D': '7', 'J': '1', 'A': '10', 'B': '6', 'E': '4', 'G': '5', 'I': '9'}\n",
      "Tentative matching after Round 4:\n",
      "{'H': '6', 'C': '2', 'F': '3', 'D': '7', 'J': '1', 'A': '10', 'E': '4', 'G': '5', 'I': '9'}\n",
      "Tentative matching after Round 5:\n",
      "{'B': '5', 'H': '6', 'C': '2', 'F': '3', 'D': '7', 'J': '1', 'A': '10', 'E': '4', 'I': '9'}\n",
      "Tentative matching after Round 6:\n",
      "{'A': '10', 'B': '5', 'H': '6', 'C': '2', 'F': '3', 'D': '7', 'J': '1', 'E': '4', 'I': '9'}\n",
      "Tentative matching after Round 7:\n",
      "{'E': '4', 'A': '10', 'B': '5', 'H': '6', 'C': '2', 'F': '3', 'D': '7', 'J': '1', 'I': '9'}\n",
      "Tentative matching after Round 8:\n",
      "{'F': '3', 'E': '4', 'A': '10', 'B': '5', 'H': '6', 'C': '2', 'D': '7', 'J': '1', 'I': '9'}\n"
     ]
    }
   ],
   "source": [
    "model.Deferred_Acceptance(print_tentative_matchings=True);"
   ]
  },
  {
   "cell_type": "markdown",
   "metadata": {},
   "source": [
    "The algorithm can handle unmatched matches too, i.e. it can handle examples where someone will have to end up unmatched in a stable matching."
   ]
  },
  {
   "cell_type": "code",
   "execution_count": 9,
   "metadata": {},
   "outputs": [
    {
     "data": {
      "text/plain": [
       "{'I': '3',\n",
       " 'E': '4',\n",
       " 'J': '1',\n",
       " 'A': '10',\n",
       " 'D': '7',\n",
       " 'G': '9',\n",
       " 'F': '8',\n",
       " 'B': '5',\n",
       " 'H': '6',\n",
       " 'C': '2'}"
      ]
     },
     "execution_count": 9,
     "metadata": {},
     "output_type": "execute_result"
    }
   ],
   "source": [
    "FemalePrefers['3'] =  ['I', 'E']\n",
    "\n",
    "model = StableMatchingModel(MalePrefers, FemalePrefers)\n",
    "mu_2 = model.Deferred_Acceptance()\n",
    "mu_2"
   ]
  },
  {
   "cell_type": "markdown",
   "metadata": {},
   "source": [
    "### <font color=black>Observation \n",
    "\n",
    "Random paths to stability\n",
    "Gale-Shapley algorithm implies a centralized authority who can match men and women by collecting their preference lists and using them to output a stable matching.\n",
    "\n",
    "Question: Can a group of men and women reach a stable outcome if they match up in a decentralized way? In other words, if men and women date each other, break up, date another, break up, etc. out on their own, can they reach a stable matching eventually?\n",
    "\n",
    "Roth and van de Vate (1990) answered this question in the affirmative. They proved that starting from any unstable matching, there exists a path to a stable matching. This result suggests that stable matchings are a natural converging point for two-sided matching problems. Note that we are not sure which stable matching will be reached in this decentralized setting, whereas in the Gale-Shapley algorithm, we are very certain which stable matching will be reached."
   ]
  },
  {
   "cell_type": "markdown",
   "metadata": {},
   "source": [
    "### <font color=black>Conclusion\n",
    "\n",
    "- It finds the best outcome for the people on the proposing side and the worst outcome for the people on the receiving side.\n",
    "- It is strategy-proof for the proposers, i.e. no proposer benefits by unilaterally submitting a false preference list. \n",
    "- It is always in the best interest of the proposer to submit their true preference list."
   ]
  },
  {
   "cell_type": "markdown",
   "metadata": {},
   "source": [
    "### <font color=black>References\n",
    "1. SNAP- Stanford Network Analysis Project [link](https://snap.stanford.edu/papers.html)\n",
    "3. John P Dickerson(CMU) - Stable Matching [link](http://www.cs.cmu.edu/~arielpro/15896s16/slides/896s16-16.pdf)\n",
    "4. Yilong Geng & Mingyu Gao(Stanford)- Stable Marriage using Spark [link](https://stanford.edu/~rezab/classes/cme323/S15/projects/stable_marriage_spark_report.pdf)\n",
    "5. Jon Kleinberg(Princeton University)- Stable Matching Algorithm lecture slides [link](https://www.cs.princeton.edu/~wayne/kleinberg-tardos/pdf/01StableMatching.pdf)\n",
    "2. Asynchronous Self-Stabilizing Stable Marriage (Current Research in the GS Algo) [link](https://tel.archives-ouvertes.fr/tel-03068501/document)"
   ]
  },
  {
   "cell_type": "markdown",
   "metadata": {},
   "source": [
    "#### 500 Node Dataset"
   ]
  },
  {
   "cell_type": "code",
   "execution_count": null,
   "metadata": {},
   "outputs": [],
   "source": []
  },
  {
   "cell_type": "markdown",
   "metadata": {},
   "source": [
    "#### <div align=\"center\">-X-X- "
   ]
  },
  {
   "cell_type": "markdown",
   "metadata": {},
   "source": [
    "### <font color=black>Appendix"
   ]
  },
  {
   "cell_type": "code",
   "execution_count": 10,
   "metadata": {},
   "outputs": [
    {
     "name": "stdout",
     "output_type": "stream",
     "text": [
      "['J', 'A', 'D', 'B', 'E', 'G', 'H', 'C', 'I', 'F']\n"
     ]
    }
   ],
   "source": [
    "#A simple randomize method to generate the above dataset (Female Prefers)\n",
    "from random import randint\n",
    "\n",
    "def randomize (arr, n):\n",
    "    for i in range(n-1,0,-1):\n",
    "        j = randint(0,i+1)\n",
    "        arr[i],arr[j] = arr[j],arr[i]\n",
    "    return arr\n",
    "\n",
    "arr = ['A', 'B', 'C', 'D', 'E', 'F', 'G', 'H', 'I', 'J']\n",
    "n = len(arr)\n",
    "print(randomize(arr, n))"
   ]
  },
  {
   "cell_type": "code",
   "execution_count": 11,
   "metadata": {},
   "outputs": [
    {
     "name": "stdout",
     "output_type": "stream",
     "text": [
      "[10, 5, 9, 2, 6, 7, 4, 8, 3, 1]\n"
     ]
    }
   ],
   "source": [
    "#A simple randomize method to generate the above dataset (Male Prefers)\n",
    "from random import randint\n",
    "\n",
    "def randomize (arr, n):\n",
    "    for i in range(n-1,0,-1):\n",
    "        j = randint(0,i+1)\n",
    "        arr[i],arr[j] = arr[j],arr[i]\n",
    "    return arr\n",
    "\n",
    "arr = [1, 2, 3, 4, 5, 6, 7, 8, 9, 10]\n",
    "n = len(arr)\n",
    "print(randomize(arr, n))"
   ]
  },
  {
   "cell_type": "code",
   "execution_count": 12,
   "metadata": {},
   "outputs": [],
   "source": [
    "MalePrefers = {\n",
    "    'A': ['10', '4', '9', '4','5','1','7','3','2','6'],\n",
    "    'B': ['6', '5', '3', '8','9','7','1','4','10','2'],\n",
    "    'C': ['2', '1', '8', '9','5','7','4','10','6','3'],\n",
    "    'D': ['1', '2', '7', '3','6','8','9','10','4','5'],\n",
    "    'E': ['4', '1', '2', '3','5','6','9','8','7','10'],\n",
    "    'F': ['1', '2', '3', '8','4','9','5','7','6','10'],\n",
    "    'G': ['5', '10', '4', '3','8','1','9','7','6','2'],\n",
    "    'H': ['9', '1', '2', '6','3','10','4','8','7','5'],\n",
    "    'I': ['9', '7', '10', '1','4','3','6','5','8','5'],\n",
    "    'J': ['1', '4', '10', '3','5','8','6','7','9','2']\n",
    "}"
   ]
  },
  {
   "cell_type": "code",
   "execution_count": 59,
   "metadata": {},
   "outputs": [
    {
     "name": "stdout",
     "output_type": "stream",
     "text": [
      "       M1   M2   M3   M4   M5   M6   M7   M8   M9  M10  ... M491 M492 M493  \\\n",
      "F1    NaN  NaN  NaN  NaN  NaN  NaN  NaN  NaN  NaN  NaN  ...  NaN  NaN  NaN   \n",
      "F2    NaN  NaN  NaN  NaN  NaN  NaN  NaN  NaN  NaN  NaN  ...  NaN  NaN  NaN   \n",
      "F3    NaN  NaN  NaN  NaN  NaN  NaN  NaN  NaN  NaN  NaN  ...  NaN  NaN  NaN   \n",
      "F4    NaN  NaN  NaN  NaN  NaN  NaN  NaN  NaN  NaN  NaN  ...  NaN  NaN  NaN   \n",
      "F5    NaN  NaN  NaN  NaN  NaN  NaN  NaN  NaN  NaN  NaN  ...  NaN  NaN  NaN   \n",
      "...   ...  ...  ...  ...  ...  ...  ...  ...  ...  ...  ...  ...  ...  ...   \n",
      "F496  NaN  NaN  NaN  NaN  NaN  NaN  NaN  NaN  NaN  NaN  ...  NaN  NaN  NaN   \n",
      "F497  NaN  NaN  NaN  NaN  NaN  NaN  NaN  NaN  NaN  NaN  ...  NaN  NaN  NaN   \n",
      "F498  NaN  NaN  NaN  NaN  NaN  NaN  NaN  NaN  NaN  NaN  ...  NaN  NaN  NaN   \n",
      "F499  NaN  NaN  NaN  NaN  NaN  NaN  NaN  NaN  NaN  NaN  ...  NaN  NaN  NaN   \n",
      "F500  NaN  NaN  NaN  NaN  NaN  NaN  NaN  NaN  NaN  NaN  ...  NaN  NaN  NaN   \n",
      "\n",
      "     M494 M495 M496 M497 M498 M499 M500  \n",
      "F1    NaN  NaN  NaN  NaN  NaN  NaN  NaN  \n",
      "F2    NaN  NaN  NaN  NaN  NaN  NaN  NaN  \n",
      "F3    NaN  NaN  NaN  NaN  NaN  NaN  NaN  \n",
      "F4    NaN  NaN  NaN  NaN  NaN  NaN  NaN  \n",
      "F5    NaN  NaN  NaN  NaN  NaN  NaN  NaN  \n",
      "...   ...  ...  ...  ...  ...  ...  ...  \n",
      "F496  NaN  NaN  NaN  NaN  NaN  NaN  NaN  \n",
      "F497  NaN  NaN  NaN  NaN  NaN  NaN  NaN  \n",
      "F498  NaN  NaN  NaN  NaN  NaN  NaN  NaN  \n",
      "F499  NaN  NaN  NaN  NaN  NaN  NaN  NaN  \n",
      "F500  NaN  NaN  NaN  NaN  NaN  NaN  NaN  \n",
      "\n",
      "[500 rows x 500 columns]\n"
     ]
    }
   ],
   "source": [
    "#Code to Generate a Dataframe to get a dataset with node sizes 500, 1k, 1.5k, 2k, etc.\n",
    "import numpy as np\n",
    "import pandas as pd\n",
    "\n",
    "#my_array = np.array([[11,22,33],[44,55,66]])\n",
    "F_cand = []\n",
    "\n",
    "for i in range(1, 501):\n",
    "    _str = 'F'+str(i)\n",
    "    F_cand.append(_str)\n",
    "    \n",
    "#print(F_cand)\n",
    "#columns = np.arange(1, 500, 1).tolist()\n",
    "\n",
    "#M_cand = 'M'+chr(i):i for i in range(2,500)\n",
    "\n",
    "M_cand = []\n",
    "\n",
    "for i in range(1, 501):\n",
    "    _str = 'M'+str(i)\n",
    "    M_cand.append(_str)\n",
    "\n",
    "#print(M_cand)\n",
    "\n",
    "df = pd.DataFrame(index = F_cand,columns = M_cand)\n",
    "dataset_name = str(len(M_cand))+'_nodes.csv'\n",
    "df.to_csv(dataset_name)\n",
    "\n",
    "print(df)"
   ]
  },
  {
   "cell_type": "code",
   "execution_count": 1,
   "metadata": {},
   "outputs": [
    {
     "ename": "NameError",
     "evalue": "name 'M_cand' is not defined",
     "output_type": "error",
     "traceback": [
      "\u001b[0;31m---------------------------------------------------------------------------\u001b[0m",
      "\u001b[0;31mNameError\u001b[0m                                 Traceback (most recent call last)",
      "\u001b[0;32m<ipython-input-1-b3f7bbd70fe4>\u001b[0m in \u001b[0;36m<module>\u001b[0;34m\u001b[0m\n\u001b[1;32m      7\u001b[0m     \u001b[0;32mreturn\u001b[0m \u001b[0marr\u001b[0m\u001b[0;34m\u001b[0m\u001b[0;34m\u001b[0m\u001b[0m\n\u001b[1;32m      8\u001b[0m \u001b[0;34m\u001b[0m\u001b[0m\n\u001b[0;32m----> 9\u001b[0;31m \u001b[0mn\u001b[0m \u001b[0;34m=\u001b[0m \u001b[0mlen\u001b[0m\u001b[0;34m(\u001b[0m\u001b[0mM_cand\u001b[0m\u001b[0;34m)\u001b[0m\u001b[0;34m\u001b[0m\u001b[0;34m\u001b[0m\u001b[0m\n\u001b[0m\u001b[1;32m     10\u001b[0m \u001b[0;34m\u001b[0m\u001b[0m\n\u001b[1;32m     11\u001b[0m \u001b[0mto_append\u001b[0m \u001b[0;34m=\u001b[0m \u001b[0mrandomize\u001b[0m\u001b[0;34m(\u001b[0m\u001b[0mM_cand\u001b[0m\u001b[0;34m,\u001b[0m \u001b[0mn\u001b[0m\u001b[0;34m)\u001b[0m\u001b[0;34m\u001b[0m\u001b[0;34m\u001b[0m\u001b[0m\n",
      "\u001b[0;31mNameError\u001b[0m: name 'M_cand' is not defined"
     ]
    }
   ],
   "source": [
    "from random import randint\n",
    "\n",
    "def randomize (arr, n):\n",
    "    for i in range(n-1,0,-1):\n",
    "        j = randint(0,i+1)\n",
    "        arr[i],arr[j] = arr[j],arr[i]\n",
    "    return arr\n",
    "\n",
    "n = len(M_cand)\n",
    "\n",
    "to_append = randomize(M_cand, n)\n",
    "df_length = len(df)\n",
    "df.loc[df_length] = to_append"
   ]
  },
  {
   "cell_type": "code",
   "execution_count": null,
   "metadata": {},
   "outputs": [],
   "source": [
    "#Additional different attempt to generate a dataset \n",
    "#not used for the testing\n",
    "import numpy as np\n",
    "import pandas as pd\n",
    "\n",
    "\n",
    "Alpha = 'ABCDEFGHIJKLMNOPQRSTUVWXYZ'\n",
    "Numeric = '12345678910'\n",
    "# more Pythonic: list-comprehension\n",
    "squares = [r+c for r in Alpha for c in Numeric]\n",
    "print(len(squares))\n",
    "print(squares[0:len(squares)])\n",
    "\n",
    "\n",
    "variables = np.arange(1, 500, 1).tolist()\n",
    "pd.DataFrame(squares, columns=variables)\n",
    "\n",
    "\n",
    "#Additional different attempt to generate a dataset \n",
    "#not used for the testing\n",
    "dict_test ={}\n",
    "for k in range (1, 500):\n",
    "    dict_test = {chr(i+64):i for i in range(1,27)}\n",
    "\n",
    "print(dict_test)"
   ]
  }
 ],
 "metadata": {
  "kernelspec": {
   "display_name": "Python 3",
   "language": "python",
   "name": "python3"
  },
  "language_info": {
   "codemirror_mode": {
    "name": "ipython",
    "version": 3
   },
   "file_extension": ".py",
   "mimetype": "text/x-python",
   "name": "python",
   "nbconvert_exporter": "python",
   "pygments_lexer": "ipython3",
   "version": "3.8.5"
  }
 },
 "nbformat": 4,
 "nbformat_minor": 4
}
